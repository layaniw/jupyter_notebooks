{
 "cells": [
  {
   "cell_type": "markdown",
   "id": "f5695575-07c3-4129-b7f1-0a80cf200e62",
   "metadata": {},
   "source": [
    "\n",
    "# Post Correspondence Problem"
   ]
  },
  {
   "cell_type": "markdown",
   "id": "de743661-0846-41da-8dd5-bcd4fa3c09bb",
   "metadata": {},
   "source": [
    "The Post Correspondence Problem was introduced by Emil Post in 1946. It is an undecidable decision problem for which we can not implement an algorithm to address the problem in a finite time. "
   ]
  },
  {
   "cell_type": "markdown",
   "id": "598fe570-cbcc-4d22-a9d8-11dec525da65",
   "metadata": {},
   "source": [
    "### Problem Definition"
   ]
  },
  {
   "cell_type": "markdown",
   "id": "629cc5be-8aaa-4be4-891d-a78b3545db83",
   "metadata": {},
   "source": [
    "Given two lists M and N of non empty strings, over alphabet ∑ containing atleast two symbols"
   ]
  },
  {
   "cell_type": "markdown",
   "id": "d80024ff-d121-4bc3-8cc7-c452c1981ff0",
   "metadata": {},
   "source": [
    "M = ($x_{1}, x_{2}, x_{3}, ..., x_{n}$)"
   ]
  },
  {
   "cell_type": "markdown",
   "id": "76076d63-b841-4f2f-b913-7917c97682ec",
   "metadata": {},
   "source": [
    "N = ($y_{1}, y_{2}, y_{3}, ..., y_{n}$)"
   ]
  },
  {
   "cell_type": "markdown",
   "id": "b618ab4e-979b-4cb6-9e5d-42449bd73bb7",
   "metadata": {},
   "source": [
    "We can say that there is a Post Correspondence solution, if $x_{i1}, x_{i2}, ..., x_{ik} = y_{i1}, y_{i2}, ..., y_{ik}$ for some $i_{1}, i_{2}, ..., i_{k}$, where 1 ≤ $i_{j}$ ≤ n"
   ]
  },
  {
   "cell_type": "markdown",
   "id": "14b3ef6d-546b-4930-adb6-0cb175642a3d",
   "metadata": {},
   "source": [
    "In simple, if there are two lists of N strings made up of characters over an alphabet ∑, we should find a sequence as the solution which gives the same result for both the lists when strings are concatenated according to that sequence. "
   ]
  },
  {
   "cell_type": "markdown",
   "id": "1cfbc446-798a-40dc-80b0-10418a519a67",
   "metadata": {},
   "source": [
    "#### Example 1"
   ]
  },
  {
   "cell_type": "markdown",
   "id": "55c1a6c4-44f5-4556-9257-25c44afd4505",
   "metadata": {},
   "source": [
    "M = (abb, aa, aaa) and N = (bba, aaa, aa)"
   ]
  },
  {
   "cell_type": "markdown",
   "id": "8bc52cbd-6ee2-4aa3-a470-7914b9f6f75d",
   "metadata": {},
   "source": [
    "Solution = (2,1,3)"
   ]
  },
  {
   "cell_type": "markdown",
   "id": "8daeac8b-1a29-4a8a-9611-7efceec34c1f",
   "metadata": {},
   "source": [
    "Concatenated Strings according to the seqence :"
   ]
  },
  {
   "cell_type": "markdown",
   "id": "ef860380-c7a5-4fb7-a469-ab3593ea2a63",
   "metadata": {},
   "source": [
    "M -> aaabbaaa"
   ]
  },
  {
   "cell_type": "markdown",
   "id": "a669e7cb-1634-4fd1-a907-ae4b774b494a",
   "metadata": {},
   "source": [
    "N -> aaabbaaa"
   ]
  },
  {
   "cell_type": "markdown",
   "id": "16e21c6e-19e9-4fe4-be60-6b3c1c7b36ed",
   "metadata": {},
   "source": [
    "We can also define the Post Correspondence problem by using dominos. Given N number of dominos, the solution is to arrange those in a sequence such that concatenated strings on the numerator are equal to the concatenated strings on the denominator.  "
   ]
  },
  {
   "cell_type": "markdown",
   "id": "4a9063e7-9fcd-42a2-abd5-2fd123a1377e",
   "metadata": {},
   "source": [
    "#### Example 2"
   ]
  },
  {
   "cell_type": "markdown",
   "id": "3c7dff0f-808e-42a4-81fd-4ac2136fa01f",
   "metadata": {},
   "source": [
    "Dominos : $\\frac{aa}{aab}, \\frac{bb}{ba}, \\frac{abb}{b}$"
   ]
  },
  {
   "cell_type": "markdown",
   "id": "92c4a422-81f2-41a3-b4bb-50878aa9b633",
   "metadata": {},
   "source": [
    "Solution : 1, 2, 1, 3"
   ]
  },
  {
   "cell_type": "markdown",
   "id": "9a719909-fd47-40d5-b8ed-3a761fdfe5eb",
   "metadata": {},
   "source": [
    "When concatenated according to the seqence : $\\frac{aa}{aab}$, $\\frac{bb}{ba}$, $\\frac{aa}{aab}$, $\\frac{abb}{b}$"
   ]
  },
  {
   "cell_type": "markdown",
   "id": "c9c6fd4a-b937-4fe9-a0e6-1892b2d2975a",
   "metadata": {},
   "source": [
    "Numerators : aabbaaabb, Denominators : aabbaaabb"
   ]
  },
  {
   "cell_type": "markdown",
   "id": "4a2e130c-6dbf-4e3b-82c4-a48b3fa4b1a9",
   "metadata": {},
   "source": [
    "Post Correspondence Problem is an undecidable decision problem because of difficulty in proving whether two lists satisfy the conditions mentioned above. We must consider an infinite number of combinations as the sequence to prove that. Therefore, designing an algorithm that returns true when the above conditions satisfy and false otherwise is difficult. \n"
   ]
  },
  {
   "cell_type": "markdown",
   "id": "a1916b33-ba7b-46f5-b333-bb7ca87c282b",
   "metadata": {},
   "source": [
    "***"
   ]
  },
  {
   "cell_type": "markdown",
   "id": "6d6e4819-b1b9-4cb8-a185-11fdc06fb150",
   "metadata": {
    "tags": []
   },
   "source": [
    " # Bounded Post Correspondence Problem"
   ]
  },
  {
   "cell_type": "markdown",
   "id": "9d206807-9fd1-4f1c-a47d-194b00acdf95",
   "metadata": {},
   "source": [
    "In Bounded Post Correspondence Problem, the number of tiles used to form the concatenated string including repititives is nore more than k. This simpliflies the Post Correspodence Problem to some extend since we have to only consider combinations, formed using up to k tiles. Brute force search can solve the bounded post correspondence problem in time complexity of O($2^k$). But still there is no efficient algorithm to solve this problem hence falls in to NP-complete category.   \n"
   ]
  },
  {
   "cell_type": "markdown",
   "id": "e35d2c5c-72b0-4ac8-a4be-7a99ce5915db",
   "metadata": {},
   "source": [
    "e.g : "
   ]
  },
  {
   "cell_type": "markdown",
   "id": "391cac42-9907-48cf-b5d3-b0c702218129",
   "metadata": {},
   "source": [
    "M = (abb, aa) and N = (bba, aaa)"
   ]
  },
  {
   "cell_type": "markdown",
   "id": "43bd5db8-55b2-41cc-997f-d0f107bd7597",
   "metadata": {},
   "source": [
    "In Post Correspondence Problem there are an infinite number of combinations for a given lists M and N.\n",
    "\n",
    "The list of combinations would be continue on as below.\n",
    "\n",
    "List of solutions= (1), (2), (1,1), (1,2), (2,1), (2,2), (1,1,1), (1,1,2), (1,2,2), ... (1,1,1,1), (1,1,1,2), (1,1,2,2), ..."
   ]
  },
  {
   "cell_type": "markdown",
   "id": "f35bdde0-6481-4667-8a3b-1b660d8ddf02",
   "metadata": {},
   "source": [
    "If k is defined as 2 the combination we have to check is getting limited as mentioned below.\n",
    "\n",
    "List of solutions= (1), (2), (1,1), (1,2), (2,1), (2,2)"
   ]
  },
  {
   "cell_type": "markdown",
   "id": "ba9321d0-84b0-4c8f-86d4-09d030b33f2d",
   "metadata": {},
   "source": [
    "It is clear that,this simpliflies the solution space."
   ]
  },
  {
   "cell_type": "markdown",
   "id": "978331d2-4f61-4781-9446-22272cf1deea",
   "metadata": {},
   "source": [
    "***"
   ]
  },
  {
   "cell_type": "markdown",
   "id": "37b71878-2ebe-4da4-be75-33d516537949",
   "metadata": {},
   "source": [
    "#  Developing a function for Bounded Correspondence Problem"
   ]
  },
  {
   "cell_type": "markdown",
   "id": "b8f8713f-46f5-4517-9d94-3ecfc3d83dcb",
   "metadata": {},
   "source": [
    "### Finding all combinations for a given k"
   ]
  },
  {
   "cell_type": "markdown",
   "id": "d613638d-78e2-4960-8f89-e6bd7d7f81fa",
   "metadata": {},
   "source": [
    "The following function will return concatanated strings all combinations  for a list."
   ]
  },
  {
   "cell_type": "code",
   "execution_count": 1,
   "id": "8261ae10-ea18-491d-877f-2b2f614db747",
   "metadata": {},
   "outputs": [],
   "source": [
    "from itertools import product\n",
    "\n",
    "def get_combinations(list, k):\n",
    "\n",
    "    combinations = []\n",
    "    for i in range(1,k+1):\n",
    "        for item in product(list, repeat=i):\n",
    "            combinations.append(\"\".join(item))\n",
    "    return combinations\n"
   ]
  },
  {
   "cell_type": "code",
   "execution_count": 2,
   "id": "60d3202f-9d35-40b3-af3f-d7467202cf77",
   "metadata": {},
   "outputs": [
    {
     "name": "stdout",
     "output_type": "stream",
     "text": [
      "['AC', 'C', 'ACAC', 'ACC', 'CAC', 'CC', 'ACACAC', 'ACACC', 'ACCAC', 'ACCC', 'CACAC', 'CACC', 'CCAC', 'CCC']\n"
     ]
    }
   ],
   "source": [
    "list1= [\"AC\", \"C\"]\n",
    "k=3\n",
    "print(get_combinations(list1, k))"
   ]
  },
  {
   "cell_type": "code",
   "execution_count": 3,
   "id": "ceaad205-8463-473d-b1c9-336ec7494a26",
   "metadata": {},
   "outputs": [],
   "source": [
    "import numpy as np\n",
    "def bounded_correspondence_solver(L1,L2,k):\n",
    "    \n",
    "    N=np.array(get_combinations(L1, k))\n",
    "    M=np.array(get_combinations(L2, k))\n",
    "    print(N)\n",
    "    print(M)\n",
    "    if(np.where(N==M)):\n",
    "        return True\n",
    "    return False"
   ]
  },
  {
   "cell_type": "code",
   "execution_count": 4,
   "id": "a90a95eb-f320-4187-a08b-9ce4a68b9c1a",
   "metadata": {},
   "outputs": [
    {
     "name": "stdout",
     "output_type": "stream",
     "text": [
      "['abb' 'aa' 'aaa' 'abbabb' 'abbaa' 'abbaaa' 'aaabb' 'aaaa' 'aaaaa'\n",
      " 'aaaabb' 'aaaaa' 'aaaaaa']\n",
      "['bba' 'aaa' 'aa' 'bbabba' 'bbaaaa' 'bbaaa' 'aaabba' 'aaaaaa' 'aaaaa'\n",
      " 'aabba' 'aaaaa' 'aaaa']\n"
     ]
    },
    {
     "data": {
      "text/plain": [
       "True"
      ]
     },
     "execution_count": 4,
     "metadata": {},
     "output_type": "execute_result"
    }
   ],
   "source": [
    "M = [\"abb\", \"aa\", \"aaa\"]\n",
    "N = [\"bba\", \"aaa\", \"aa\"]\n",
    "#(2,1,3)\n",
    "bounded_correspondence_solver(M,N,2)"
   ]
  },
  {
   "cell_type": "code",
   "execution_count": 330,
   "id": "3f58e618-f1f8-469a-a10f-2a0dc403a014",
   "metadata": {},
   "outputs": [],
   "source": [
    "from itertools import chain\n",
    "import numpy as np\n",
    "\n",
    "def bounded_correspondence_solver(L1,L2,k):\n",
    "    \n",
    "    combinations = []\n",
    "    position_list = []\n",
    "    string_list1 = []\n",
    "    string_list2 = []\n",
    "    combinations_of_indices = []\n",
    "    \n",
    "    \n",
    "    for x in range(0,len(L1)):\n",
    "        \n",
    "        position_list.append(x)\n",
    "    \n",
    "    for i in range(1,k+1):\n",
    "        \n",
    "        #get combinations \n",
    "        combinations.append(product(*([range(len(L1))]* i)))\n",
    "\n",
    "    for pattern in chain(*combinations):\n",
    "        \n",
    "        #check whether the sequence contains every elements atleast once\n",
    "        if(all( item in pattern for item in position_list)):\n",
    "           \n",
    "            str1 = ''\n",
    "            str2 = ''\n",
    "            indices = ''\n",
    "\n",
    "            for j in range(0,len(pattern)):\n",
    "                str1 += L1[pattern[j]]\n",
    "                str2 +=  L2[pattern[j]]              \n",
    "            \n",
    "            string_list1.append(str1) \n",
    "            string_list2.append(str2) \n",
    "            combinations_of_indices.append(pattern)\n",
    "\n",
    "    #valid combinations of indices\n",
    "    print(combinations_of_indices)\n",
    "    #valid combinations for L1     \n",
    "    print(string_list1)\n",
    "    #valid combinations for L2\n",
    "    print(string_list2)\n",
    "    \n",
    "    #tuple of arrays after comparing combinations elementwise \n",
    "    result = np.where(np.array(string_list1) == np.array(string_list2))\n",
    "    print(result[0])\n",
    "    print(result)\n",
    "    \n",
    "    if(result[0].size > 0):\n",
    "        #Sequnece of elements\n",
    "        print(\"sequence of elements for the given lists(for first match) : \" + np.array2string(np.array(combinations_of_indices, dtype=object)[result[0][0]]));\n",
    "        print(\"concatenated string(for first match) : \" + string_list1[result[0][0]]);\n",
    "        return True\n",
    "    \n",
    "    return False\n"
   ]
  },
  {
   "cell_type": "code",
   "execution_count": 325,
   "id": "e08129a3-21d6-48ff-b593-54efb2953c30",
   "metadata": {},
   "outputs": [
    {
     "name": "stdout",
     "output_type": "stream",
     "text": [
      "[(0, 1, 2), (0, 2, 1), (1, 0, 2), (1, 2, 0), (2, 0, 1), (2, 1, 0)]\n",
      "['abbaaaaa', 'abbaaaaa', 'aaabbaaa', 'aaaaaabb', 'aaaabbaa', 'aaaaaabb']\n",
      "['bbaaaaaa', 'bbaaaaaa', 'aaabbaaa', 'aaaaabba', 'aabbaaaa', 'aaaaabba']\n",
      "[2]\n",
      "(array([2], dtype=int64),)\n",
      "sequence of elements for the given lists(for first match) : [1 0 2]\n",
      "concatenated string(for first match) : aaabbaaa\n"
     ]
    },
    {
     "data": {
      "text/plain": [
       "True"
      ]
     },
     "execution_count": 325,
     "metadata": {},
     "output_type": "execute_result"
    }
   ],
   "source": [
    "#Solution = (1,0,2)\n",
    "M = [\"abb\", \"aa\", \"aaa\"]\n",
    "N = [\"bba\", \"aaa\", \"aa\"]\n",
    "k = 3\n",
    "\n",
    "bounded_correspondence_solver(M,N,k)"
   ]
  },
  {
   "cell_type": "code",
   "execution_count": 326,
   "id": "eadd9628-50b8-43bd-b585-60a1f7265f19",
   "metadata": {},
   "outputs": [
    {
     "name": "stdout",
     "output_type": "stream",
     "text": [
      "[(0, 1, 2), (0, 2, 1), (1, 0, 2), (1, 2, 0), (2, 0, 1), (2, 1, 0)]\n",
      "['aabbabb', 'aaabbbb', 'bbaaabb', 'bbabbaa', 'abbaabb', 'abbbbaa']\n",
      "['aabbab', 'aabbba', 'baaabb', 'babaab', 'baabba', 'bbaaab']\n",
      "[]\n",
      "(array([], dtype=int64),)\n"
     ]
    },
    {
     "data": {
      "text/plain": [
       "False"
      ]
     },
     "execution_count": 326,
     "metadata": {},
     "output_type": "execute_result"
    }
   ],
   "source": [
    "#Solution : 0, 1, 0, 2\n",
    "M = [\"aa\", \"bb\", \"abb\"]\n",
    "N = [\"aab\", \"ba\", \"b\"]\n",
    "k = 3\n",
    "\n",
    "bounded_correspondence_solver(M,N,k)"
   ]
  },
  {
   "cell_type": "code",
   "execution_count": 329,
   "id": "98e19adc-672a-496d-a3fa-8949b4cbdd34",
   "metadata": {},
   "outputs": [
    {
     "name": "stdout",
     "output_type": "stream",
     "text": [
      "[(0, 1, 2), (0, 2, 1), (1, 0, 2), (1, 2, 0), (2, 0, 1), (2, 1, 0), (0, 0, 1, 2), (0, 0, 2, 1), (0, 1, 0, 2), (0, 1, 1, 2), (0, 1, 2, 0), (0, 1, 2, 1), (0, 1, 2, 2), (0, 2, 0, 1), (0, 2, 1, 0), (0, 2, 1, 1), (0, 2, 1, 2), (0, 2, 2, 1), (1, 0, 0, 2), (1, 0, 1, 2), (1, 0, 2, 0), (1, 0, 2, 1), (1, 0, 2, 2), (1, 1, 0, 2), (1, 1, 2, 0), (1, 2, 0, 0), (1, 2, 0, 1), (1, 2, 0, 2), (1, 2, 1, 0), (1, 2, 2, 0), (2, 0, 0, 1), (2, 0, 1, 0), (2, 0, 1, 1), (2, 0, 1, 2), (2, 0, 2, 1), (2, 1, 0, 0), (2, 1, 0, 1), (2, 1, 0, 2), (2, 1, 1, 0), (2, 1, 2, 0), (2, 2, 0, 1), (2, 2, 1, 0)]\n",
      "['aabbabb', 'aaabbbb', 'bbaaabb', 'bbabbaa', 'abbaabb', 'abbbbaa', 'aaaabbabb', 'aaaaabbbb', 'aabbaaabb', 'aabbbbabb', 'aabbabbaa', 'aabbabbbb', 'aabbabbabb', 'aaabbaabb', 'aaabbbbaa', 'aaabbbbbb', 'aaabbbbabb', 'aaabbabbbb', 'bbaaaaabb', 'bbaabbabb', 'bbaaabbaa', 'bbaaabbbb', 'bbaaabbabb', 'bbbbaaabb', 'bbbbabbaa', 'bbabbaaaa', 'bbabbaabb', 'bbabbaaabb', 'bbabbbbaa', 'bbabbabbaa', 'abbaaaabb', 'abbaabbaa', 'abbaabbbb', 'abbaabbabb', 'abbaaabbbb', 'abbbbaaaa', 'abbbbaabb', 'abbbbaaabb', 'abbbbbbaa', 'abbbbabbaa', 'abbabbaabb', 'abbabbbbaa']\n",
      "['aabbab', 'aabbba', 'baaabb', 'babaab', 'baabba', 'bbaaab', 'aabaabbab', 'aabaabbba', 'aabbaaabb', 'aabbabab', 'aabbabaab', 'aabbabba', 'aabbabb', 'aabbaabba', 'aabbbaaab', 'aabbbaba', 'aabbbab', 'aabbbba', 'baaabaabb', 'baaabbab', 'baaabbaab', 'baaabbba', 'baaabbb', 'babaaabb', 'bababaab', 'babaabaab', 'babaabba', 'babaabb', 'babbaaab', 'babbaab', 'baabaabba', 'baabbaaab', 'baabbaba', 'baabbab', 'baabbba', 'bbaaabaab', 'bbaaabba', 'bbaaabb', 'bbabaaab', 'bbabaab', 'bbaabba', 'bbbaaab']\n",
      "[8]\n",
      "(array([8], dtype=int64),)\n"
     ]
    },
    {
     "ename": "AttributeError",
     "evalue": "'tuple' object has no attribute 'size'",
     "output_type": "error",
     "traceback": [
      "\u001b[1;31m---------------------------------------------------------------------------\u001b[0m",
      "\u001b[1;31mAttributeError\u001b[0m                            Traceback (most recent call last)",
      "\u001b[1;32mC:\\Users\\LAYAN_~1\\AppData\\Local\\Temp/ipykernel_3476/2397375858.py\u001b[0m in \u001b[0;36m<module>\u001b[1;34m\u001b[0m\n\u001b[0;32m      4\u001b[0m \u001b[0mk\u001b[0m \u001b[1;33m=\u001b[0m \u001b[1;36m4\u001b[0m\u001b[1;33m\u001b[0m\u001b[1;33m\u001b[0m\u001b[0m\n\u001b[0;32m      5\u001b[0m \u001b[1;33m\u001b[0m\u001b[0m\n\u001b[1;32m----> 6\u001b[1;33m \u001b[0mbounded_correspondence_solver\u001b[0m\u001b[1;33m(\u001b[0m\u001b[0mM\u001b[0m\u001b[1;33m,\u001b[0m\u001b[0mN\u001b[0m\u001b[1;33m,\u001b[0m\u001b[0mk\u001b[0m\u001b[1;33m)\u001b[0m\u001b[1;33m\u001b[0m\u001b[1;33m\u001b[0m\u001b[0m\n\u001b[0m",
      "\u001b[1;32mC:\\Users\\LAYAN_~1\\AppData\\Local\\Temp/ipykernel_3476/1216554345.py\u001b[0m in \u001b[0;36mbounded_correspondence_solver\u001b[1;34m(L1, L2, k)\u001b[0m\n\u001b[0;32m     49\u001b[0m \u001b[1;33m\u001b[0m\u001b[0m\n\u001b[0;32m     50\u001b[0m     \u001b[1;32mif\u001b[0m\u001b[1;33m(\u001b[0m\u001b[0mresult\u001b[0m\u001b[1;33m[\u001b[0m\u001b[1;36m0\u001b[0m\u001b[1;33m]\u001b[0m\u001b[1;33m.\u001b[0m\u001b[0msize\u001b[0m \u001b[1;33m>\u001b[0m \u001b[1;36m0\u001b[0m\u001b[1;33m)\u001b[0m\u001b[1;33m:\u001b[0m\u001b[1;33m\u001b[0m\u001b[1;33m\u001b[0m\u001b[0m\n\u001b[1;32m---> 51\u001b[1;33m         \u001b[0mprint\u001b[0m\u001b[1;33m(\u001b[0m\u001b[1;34m\"sequence of elements for the given lists(for first match) : \"\u001b[0m \u001b[1;33m+\u001b[0m \u001b[0mnp\u001b[0m\u001b[1;33m.\u001b[0m\u001b[0marray2string\u001b[0m\u001b[1;33m(\u001b[0m\u001b[0mnp\u001b[0m\u001b[1;33m.\u001b[0m\u001b[0marray\u001b[0m\u001b[1;33m(\u001b[0m\u001b[0mcombinations_of_indices\u001b[0m\u001b[1;33m,\u001b[0m \u001b[0mdtype\u001b[0m\u001b[1;33m=\u001b[0m\u001b[0mobject\u001b[0m\u001b[1;33m)\u001b[0m\u001b[1;33m[\u001b[0m\u001b[0mresult\u001b[0m\u001b[1;33m[\u001b[0m\u001b[1;36m0\u001b[0m\u001b[1;33m]\u001b[0m\u001b[1;33m[\u001b[0m\u001b[1;36m0\u001b[0m\u001b[1;33m]\u001b[0m\u001b[1;33m]\u001b[0m\u001b[1;33m)\u001b[0m\u001b[1;33m)\u001b[0m\u001b[1;33m;\u001b[0m\u001b[1;33m\u001b[0m\u001b[1;33m\u001b[0m\u001b[0m\n\u001b[0m\u001b[0;32m     52\u001b[0m         \u001b[0mprint\u001b[0m\u001b[1;33m(\u001b[0m\u001b[1;34m\"concatenated string(for first match) : \"\u001b[0m \u001b[1;33m+\u001b[0m \u001b[0mstring_list1\u001b[0m\u001b[1;33m[\u001b[0m\u001b[0mresult\u001b[0m\u001b[1;33m[\u001b[0m\u001b[1;36m0\u001b[0m\u001b[1;33m]\u001b[0m\u001b[1;33m[\u001b[0m\u001b[1;36m0\u001b[0m\u001b[1;33m]\u001b[0m\u001b[1;33m]\u001b[0m\u001b[1;33m)\u001b[0m\u001b[1;33m;\u001b[0m\u001b[1;33m\u001b[0m\u001b[1;33m\u001b[0m\u001b[0m\n\u001b[0;32m     53\u001b[0m         \u001b[1;32mreturn\u001b[0m \u001b[1;32mTrue\u001b[0m\u001b[1;33m\u001b[0m\u001b[1;33m\u001b[0m\u001b[0m\n",
      "\u001b[1;32m<__array_function__ internals>\u001b[0m in \u001b[0;36marray2string\u001b[1;34m(*args, **kwargs)\u001b[0m\n",
      "\u001b[1;32m~\\anaconda3\\lib\\site-packages\\numpy\\core\\arrayprint.py\u001b[0m in \u001b[0;36marray2string\u001b[1;34m(a, max_line_width, precision, suppress_small, separator, prefix, style, formatter, threshold, edgeitems, sign, floatmode, suffix, legacy)\u001b[0m\n\u001b[0;32m    687\u001b[0m \u001b[1;33m\u001b[0m\u001b[0m\n\u001b[0;32m    688\u001b[0m     \u001b[1;31m# treat as a null array if any of shape elements == 0\u001b[0m\u001b[1;33m\u001b[0m\u001b[1;33m\u001b[0m\u001b[0m\n\u001b[1;32m--> 689\u001b[1;33m     \u001b[1;32mif\u001b[0m \u001b[0ma\u001b[0m\u001b[1;33m.\u001b[0m\u001b[0msize\u001b[0m \u001b[1;33m==\u001b[0m \u001b[1;36m0\u001b[0m\u001b[1;33m:\u001b[0m\u001b[1;33m\u001b[0m\u001b[1;33m\u001b[0m\u001b[0m\n\u001b[0m\u001b[0;32m    690\u001b[0m         \u001b[1;32mreturn\u001b[0m \u001b[1;34m\"[]\"\u001b[0m\u001b[1;33m\u001b[0m\u001b[1;33m\u001b[0m\u001b[0m\n\u001b[0;32m    691\u001b[0m \u001b[1;33m\u001b[0m\u001b[0m\n",
      "\u001b[1;31mAttributeError\u001b[0m: 'tuple' object has no attribute 'size'"
     ]
    }
   ],
   "source": [
    "#Solution : 0, 1, 0, 2\n",
    "M = [\"aa\", \"bb\", \"abb\"]\n",
    "N = [\"aab\", \"ba\", \"b\"]\n",
    "k = 4\n",
    "\n",
    "bounded_correspondence_solver(M,N,k)"
   ]
  },
  {
   "cell_type": "markdown",
   "id": "bb7ffc59-449c-4bac-95fc-300e5c9261ae",
   "metadata": {},
   "source": [
    "***"
   ]
  },
  {
   "cell_type": "markdown",
   "id": "c4d68db1-0992-4ed1-871e-8622ec0df7b1",
   "metadata": {
    "tags": []
   },
   "source": [
    "# Undecidable Problems"
   ]
  },
  {
   "cell_type": "markdown",
   "id": "8d30d1f6-8da4-48a1-85fe-fc49d424c4ad",
   "metadata": {},
   "source": [
    "Suppose an algorithm designed to solve a decision problem returns yes or no as the output for its set of inputs. In that case, that problem is called a decidable problem in computability theory. On the other hand, an undecidable problem has no algorithm which will always return yes or no as the output for all the inputs.  "
   ]
  },
  {
   "cell_type": "markdown",
   "id": "30e27216-5081-4eb9-9776-c7efc1ae9b8f",
   "metadata": {},
   "source": [
    "The decidability of a problem can also be defined using the concept of the Turing machine. If we can construct a Turing machine which will halt in a finite amount of time and give the answer as yes or no, that problem is decidable. We can not construct such a Turing machine for an undecidable problem. "
   ]
  },
  {
   "cell_type": "markdown",
   "id": "51f93c81-643d-4e9c-b4dd-24db0b9694e5",
   "metadata": {},
   "source": [
    "As shown earlier, it is impossible to design an algorithm which can decide whether any Post Correspondence problem has a solution or not. It can be proved by using the Turing machine and achieved by reducing the Acceptance Problem of the Turing Machine to an instance of Post Correspondence Problem called Modified Post Correspondence Problem."
   ]
  },
  {
   "cell_type": "markdown",
   "id": "48fce2b7-6054-47e9-990b-8d7b828d3193",
   "metadata": {},
   "source": [
    "### Acceptance Problem of Turing Machine"
   ]
  },
  {
   "cell_type": "markdown",
   "id": "a7cafe02-6e97-479c-a34f-d3eeb61eb8ae",
   "metadata": {},
   "source": [
    "$ A_{TM} = \\{\\langle M , w \\rangle | \\textrm{ Turing machine } M \\textrm{ accepts } w \\}$"
   ]
  },
  {
   "cell_type": "markdown",
   "id": "ef9c3a4e-cb7e-40c9-8ddb-26c811d62105",
   "metadata": {},
   "source": [
    "If we assume $ A_{TM} $ is decidable, then there is a Turing machine $H$ which decides it."
   ]
  },
  {
   "cell_type": "markdown",
   "id": "facd10ca-6e32-4406-8b6c-8d5cb948739e",
   "metadata": {},
   "source": [
    "$ H(\\langle M , w \\rangle)$ will either accept or reject."
   ]
  },
  {
   "cell_type": "markdown",
   "id": "7a350990-907d-41be-8fb9-a6eb134d32c7",
   "metadata": {},
   "source": [
    "We can construct Turing machine $C$ which takes the input $X$ which is another Turing Machine such that,"
   ]
  },
  {
   "cell_type": "markdown",
   "id": "4e180a92-6817-4456-9e6e-edf4990bb0c1",
   "metadata": {},
   "source": [
    "\\[\n",
    "$C(X)$=\n",
    "\\begin{cases}\n",
    "\\text{reject}, & \\text{if } H(\\langle X , \\langle X \\rangle \\rangle) \\text{ accepts}\\\\\n",
    "\\text{accept}, &\\text{else}\n",
    "\\end{cases}\n",
    "\\]"
   ]
  },
  {
   "cell_type": "markdown",
   "id": "e26f8e24-0625-48a9-bc16-21354ad064f0",
   "metadata": {},
   "source": [
    "When we run $C$ on itself, if $C$ accepts itself then $C$ must reject and if $C$ rejects itself $C$ must accept. "
   ]
  },
  {
   "cell_type": "markdown",
   "id": "f5536b82-37de-47c5-b4ee-10e35da02141",
   "metadata": {},
   "source": [
    "\\[\n",
    "$C(C)$=\n",
    "\\begin{cases}\n",
    "\\text{reject}, & \\text{if } H(\\langle C , \\langle C \\rangle \\rangle) \\text{ accepts}\\\\\n",
    "\\text{accept}, &\\text{else}\n",
    "\\end{cases}\n",
    "\\]"
   ]
  },
  {
   "cell_type": "markdown",
   "id": "ae202dae-3273-4f75-9735-cceb6dfd9dfc",
   "metadata": {},
   "source": [
    "Now there is a contradiction. Therefore $H$ and $C$ can not exist. Since $H$ does not exist the assumption we made at the begining is incorrect. Therefore $A_{TM}$ must not be decidable."
   ]
  },
  {
   "cell_type": "markdown",
   "id": "32c075bc-d78f-4b31-8d04-03d47aba0586",
   "metadata": {},
   "source": [
    "### Reducibility"
   ]
  },
  {
   "cell_type": "markdown",
   "id": "5dbd82be-cdc5-4a54-978c-756b00dd0a2e",
   "metadata": {},
   "source": [
    "In reducing, we try to convert one problem to another problem so that solution to the first problem can be used to solve the other problem.\n",
    "\n",
    "According to reducibility theorems, if the first problem is undecidable, the second problem is also undecidable(Only if the first problem can be reduced to the second problem)"
   ]
  },
  {
   "cell_type": "markdown",
   "id": "3401e2a4-e3d3-4ae7-9ba0-20d608dcc361",
   "metadata": {},
   "source": [
    "Here we are reducing the Acceptance Problem of the Turing Machine to an instance of PCP. If the Acceptance Problem of the Turing Machine is undecidable we can prove that the Post Correspondence Problem is also undecidable."
   ]
  },
  {
   "cell_type": "markdown",
   "id": "0da98969-549f-41b3-8478-4eb96f063713",
   "metadata": {},
   "source": [
    "### Modified Post Correspondence Problem"
   ]
  },
  {
   "cell_type": "markdown",
   "id": "7aa34380-4462-484b-bc2f-bd1a69e86fbd",
   "metadata": {},
   "source": [
    "In Modified Post Correspondence Problem, the first string in the given two lists should be the first string in the solution. Modified Post Correspondence Problem can be reduced to Post Crresopondence problem. The proof can be found at http://www.cs.columbia.edu/~aho/cs3261/Lectures/L17-PCP.html."
   ]
  }
 ],
 "metadata": {
  "kernelspec": {
   "display_name": "Python 3 (ipykernel)",
   "language": "python",
   "name": "python3"
  },
  "language_info": {
   "codemirror_mode": {
    "name": "ipython",
    "version": 3
   },
   "file_extension": ".py",
   "mimetype": "text/x-python",
   "name": "python",
   "nbconvert_exporter": "python",
   "pygments_lexer": "ipython3",
   "version": "3.9.7"
  }
 },
 "nbformat": 4,
 "nbformat_minor": 5
}
