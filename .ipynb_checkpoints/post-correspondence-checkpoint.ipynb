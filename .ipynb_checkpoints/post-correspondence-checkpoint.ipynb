{
 "cells": [
  {
   "cell_type": "markdown",
   "id": "f5695575-07c3-4129-b7f1-0a80cf200e62",
   "metadata": {},
   "source": [
    "# Post Correspondence Problem"
   ]
  },
  {
   "cell_type": "markdown",
   "id": "de743661-0846-41da-8dd5-bcd4fa3c09bb",
   "metadata": {},
   "source": [
    "The Post Correspondence Problem was introduced by Emil Post in 1946. It is an undecidable decision problem for which we can not implement an algorithm to address the problem in a finite time. "
   ]
  },
  {
   "cell_type": "markdown",
   "id": "598fe570-cbcc-4d22-a9d8-11dec525da65",
   "metadata": {},
   "source": [
    "### Problem Definition"
   ]
  },
  {
   "cell_type": "markdown",
   "id": "629cc5be-8aaa-4be4-891d-a78b3545db83",
   "metadata": {},
   "source": [
    "Given two lists M and N of non empty strings, over alphabet ∑ containing atleast two symbols"
   ]
  },
  {
   "cell_type": "markdown",
   "id": "d80024ff-d121-4bc3-8cc7-c452c1981ff0",
   "metadata": {},
   "source": [
    "M = ($x_{1}, x_{2}, x_{3}, ..., x_{n}$)"
   ]
  },
  {
   "cell_type": "markdown",
   "id": "76076d63-b841-4f2f-b913-7917c97682ec",
   "metadata": {},
   "source": [
    "N = ($y_{1}, y_{2}, y_{3}, ..., y_{n}$)"
   ]
  },
  {
   "cell_type": "markdown",
   "id": "b618ab4e-979b-4cb6-9e5d-42449bd73bb7",
   "metadata": {},
   "source": [
    "We can say that there is a Post Correspondence solution, if $x_{i1}, x_{i2}, ..., x_{ik} = y_{i1}, y_{i2}, ..., y_{ik}$ for some $i_{1}, i_{2}, ..., i_{k}$, where 1 ≤ $i_{j}$ ≤ n"
   ]
  },
  {
   "cell_type": "markdown",
   "id": "14b3ef6d-546b-4930-adb6-0cb175642a3d",
   "metadata": {},
   "source": [
    "In simple, if there are two lists of N strings made up of characters over an alphabet ∑, we should find a sequence as the solution which gives the same result for both the lists when strings are concatenated according to that sequence. "
   ]
  },
  {
   "cell_type": "markdown",
   "id": "1cfbc446-798a-40dc-80b0-10418a519a67",
   "metadata": {},
   "source": [
    "#### Example 1"
   ]
  },
  {
   "cell_type": "markdown",
   "id": "55c1a6c4-44f5-4556-9257-25c44afd4505",
   "metadata": {},
   "source": [
    "M = (abb, aa, aaa) and N = (bba, aaa, aa)"
   ]
  },
  {
   "cell_type": "markdown",
   "id": "8bc52cbd-6ee2-4aa3-a470-7914b9f6f75d",
   "metadata": {},
   "source": [
    "Solution = (2,1,3)"
   ]
  },
  {
   "cell_type": "markdown",
   "id": "8daeac8b-1a29-4a8a-9611-7efceec34c1f",
   "metadata": {},
   "source": [
    "Concatenated Strings according to the seqence :"
   ]
  },
  {
   "cell_type": "markdown",
   "id": "ef860380-c7a5-4fb7-a469-ab3593ea2a63",
   "metadata": {},
   "source": [
    "M -> aaabbaaa"
   ]
  },
  {
   "cell_type": "markdown",
   "id": "a669e7cb-1634-4fd1-a907-ae4b774b494a",
   "metadata": {},
   "source": [
    "N -> aaabbaaa"
   ]
  },
  {
   "cell_type": "markdown",
   "id": "16e21c6e-19e9-4fe4-be60-6b3c1c7b36ed",
   "metadata": {},
   "source": [
    "We can also define the Post Correspondence problem by using dominos. Given N number of dominos, the solution is to arrange those in a sequence such that concatenated strings on the numerator are equal to the concatenated strings on the denominator.  "
   ]
  },
  {
   "cell_type": "markdown",
   "id": "4a9063e7-9fcd-42a2-abd5-2fd123a1377e",
   "metadata": {},
   "source": [
    "#### Example 2"
   ]
  },
  {
   "cell_type": "markdown",
   "id": "3c7dff0f-808e-42a4-81fd-4ac2136fa01f",
   "metadata": {},
   "source": [
    "Dominos : $\\frac{aa}{aab}, \\frac{bb}{ba}, \\frac{abb}{b}$"
   ]
  },
  {
   "cell_type": "markdown",
   "id": "92c4a422-81f2-41a3-b4bb-50878aa9b633",
   "metadata": {},
   "source": [
    "Solution : 1, 2, 1, 3"
   ]
  },
  {
   "cell_type": "markdown",
   "id": "9a719909-fd47-40d5-b8ed-3a761fdfe5eb",
   "metadata": {},
   "source": [
    "When concatenated according to the seqence : $\\frac{aa}{aab}$, $\\frac{bb}{ba}$, $\\frac{aa}{aab}$, $\\frac{abb}{b}$"
   ]
  },
  {
   "cell_type": "markdown",
   "id": "c9c6fd4a-b937-4fe9-a0e6-1892b2d2975a",
   "metadata": {},
   "source": [
    "Numerators : aabbaaabb, Denominators : aabbaaabb"
   ]
  },
  {
   "cell_type": "markdown",
   "id": "4a2e130c-6dbf-4e3b-82c4-a48b3fa4b1a9",
   "metadata": {},
   "source": [
    "Post Correspondence Problem is an undecidable decision problem because of difficulty in proving whether two lists satisfy the conditions mentioned above. We must consider an infinite number of combinations as the sequence to prove that. Therefore, designing an algorithm that returns true when the above conditions satisfy and false otherwise is difficult. \n"
   ]
  },
  {
   "cell_type": "markdown",
   "id": "a1916b33-ba7b-46f5-b333-bb7ca87c282b",
   "metadata": {},
   "source": [
    "***"
   ]
  },
  {
   "cell_type": "markdown",
   "id": "6d6e4819-b1b9-4cb8-a185-11fdc06fb150",
   "metadata": {},
   "source": [
    " # Bounded Post Correspondence Problem"
   ]
  },
  {
   "cell_type": "code",
   "execution_count": null,
   "id": "a5518004-ef71-4c76-82b4-8a2b4871424c",
   "metadata": {},
   "outputs": [],
   "source": []
  }
 ],
 "metadata": {
  "kernelspec": {
   "display_name": "Python 3 (ipykernel)",
   "language": "python",
   "name": "python3"
  },
  "language_info": {
   "codemirror_mode": {
    "name": "ipython",
    "version": 3
   },
   "file_extension": ".py",
   "mimetype": "text/x-python",
   "name": "python",
   "nbconvert_exporter": "python",
   "pygments_lexer": "ipython3",
   "version": "3.9.7"
  }
 },
 "nbformat": 4,
 "nbformat_minor": 5
}
